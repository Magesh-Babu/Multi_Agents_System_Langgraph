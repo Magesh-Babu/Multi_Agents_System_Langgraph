{
 "cells": [
  {
   "cell_type": "code",
   "execution_count": null,
   "id": "8396375f",
   "metadata": {},
   "outputs": [],
   "source": [
    "\"\"\"\n",
    "Module for setting up a stateful AI agent using LangGraph and LangChain.\n",
    "\n",
    "This module defines a reactive AI agent using LangGraph's state management \n",
    "and LangChain's AI models. It includes tools for document processing, \n",
    "vector storage, and financial data retrieval.\n",
    "\"\"\""
   ]
  },
  {
   "cell_type": "code",
   "execution_count": 1,
   "id": "0cfd5d0b",
   "metadata": {},
   "outputs": [
    {
     "name": "stderr",
     "output_type": "stream",
     "text": [
      "USER_AGENT environment variable not set, consider setting it to identify your requests.\n"
     ]
    }
   ],
   "source": [
    "import os\n",
    "from typing import Literal, List, Union, Annotated, Sequence\n",
    "from langgraph.types import Command\n",
    "from langgraph.graph import MessagesState, StateGraph, START, END\n",
    "from langgraph.prebuilt import create_react_agent\n",
    "from langgraph.checkpoint.memory import MemorySaver\n",
    "from typing_extensions import TypedDict\n",
    "from langchain_core.messages import AIMessage\n",
    "from langchain_openai.chat_models import AzureChatOpenAI\n",
    "from langchain_community.tools.tavily_search import TavilySearchResults\n",
    "from tools_list import (\n",
    "    income_statement_tool,\n",
    "    balance_sheet_tool,\n",
    "    cashflow_tool,\n",
    "    finance_ratio_tool,\n",
    "    retriever_tool,\n",
    "    housing_price_index_tool,\n",
    ")"
   ]
  },
  {
   "cell_type": "code",
   "execution_count": 2,
   "id": "cd0fd292",
   "metadata": {
    "lines_to_next_cell": 2
   },
   "outputs": [],
   "source": [
    "AZURE_GPT_API = os.getenv(\"AZURE_GPT_API\")\n",
    "AZURE_GPT_ENDPOINT = os.getenv(\"AZURE_GPT_ENDPOINT\")\n",
    "try:\n",
    "    model = AzureChatOpenAI(\n",
    "        azure_endpoint=AZURE_GPT_ENDPOINT,\n",
    "        azure_deployment=\"gpt-4o\",\n",
    "        api_version=\"2024-08-01-preview\",\n",
    "        api_key=AZURE_GPT_API,\n",
    "        temperature=0.2,\n",
    "        streaming=True,\n",
    "    )\n",
    "except Exception as e:\n",
    "    raise RuntimeError(f\"Failed to initialize AzureChatOpenAI: {e}\") from e"
   ]
  },
  {
   "cell_type": "code",
   "execution_count": null,
   "id": "53383c00",
   "metadata": {},
   "outputs": [],
   "source": [
    "# Define available agents\n",
    "members = [\"Fundamental_Analysis_Agent\",\n",
    "            \"Sentiment_Analysis_Agent\",\n",
    "            \"Technical_Analysis_Agent\",\n",
    "            \"Risk_Assessment_Agent\", \n",
    "            \"Real_Estate_Agent\"]"
   ]
  },
  {
   "cell_type": "code",
   "execution_count": null,
   "id": "2e4f0a2b",
   "metadata": {
    "lines_to_next_cell": 1
   },
   "outputs": [],
   "source": [
    "# Define router type for structured output\n",
    "class Router(TypedDict):\n",
    "    \"\"\"Worker to route to next.\"\"\"\n",
    "    next_worker: List[Literal[\"Fundamental_Analysis_Agent\", \"Sentiment_Analysis_Agent\", \"Technical_Analysis_Agent\", \"Risk_Assessment_Agent\",\n",
    "                              \"Real_Estate_Agent\"]]\n",
    "    \n",
    "class ConversationalResponse(TypedDict):\n",
    "    \"\"\"Respond in a conversational manner. Be kind and helpful.\"\"\"\n",
    "    response: Annotated[str, ..., \"A conversational response to the user's query\"]"
   ]
  },
  {
   "cell_type": "code",
   "execution_count": 5,
   "id": "a5f766dc",
   "metadata": {
    "lines_to_next_cell": 1
   },
   "outputs": [],
   "source": [
    "class FinalResponse(TypedDict):\n",
    "    \"\"\"\n",
    "    Represents the final output of a system, which can either be:\n",
    "    \n",
    "    Router type, determining the next worker to handle the process.\n",
    "    ConversationalResponse type, providing a user-friendly response.\n",
    "    \"\"\"\n",
    "    final_output: Union[Router, ConversationalResponse]"
   ]
  },
  {
   "cell_type": "code",
   "execution_count": null,
   "id": "25f5a532",
   "metadata": {},
   "outputs": [],
   "source": [
    "# Router Agent\n",
    "web_search_tool = TavilySearchResults(max_results=2)\n",
    "router_agent_tools = [web_search_tool]\n",
    "ROUTER_AGENT_PROMPT = (\n",
    "    \"You are a high-level coordinator in a multi-agent financial advisory system. \"\n",
    "    \"Your role is to determine which specialized agent(s) should handle the user's query. \"\n",
    "    \"Available agents are: {members}. Based on the user's intent, delegate the task accordingly. \"\n",
    "    \"\\n\\nRouting rules:\\n\"\n",
    "    \"- If the user asks about company fundamentals (e.g., income statement, balance sheet, cash flow, or financial ratios), route to 'Fundamental_Analysis_Agent'.\\n\"\n",
    "    \"- If the query requires technical indicators like SMA, RSI, MACD, or price trends, route to 'Technical_Analysis_Agent'.\\n\"\n",
    "    \"- If the user wants to understand market sentiment or public opinion around a stock, route to 'Sentiment_Analysis_Agent'.\\n\"\n",
    "    \"- If the query involves understanding the investment risk or volatility of a stock, route to 'Risk_Assessment_Agent'.\\n\"\n",
    "    \"- If the query relates to housing prices or real estate in Sweden, route to 'Real_Estate_Agent'.\\n\"\n",
    "    \"- If the question is general or conversational, provide a direct natural-language response.\\n\\n\"\n",
    "    \"Respond with either a list of agent names (for routing) or a conversational answer (if general).\"\n",
    ")\n",
    "router_agent = create_react_agent(\n",
    "    model, tools=router_agent_tools, prompt=ROUTER_AGENT_PROMPT, response_format=FinalResponse\n",
    ")"
   ]
  },
  {
   "cell_type": "code",
   "execution_count": 7,
   "id": "7417c560",
   "metadata": {},
   "outputs": [],
   "source": [
    "def router_node(state: MessagesState):\n",
    "    \"\"\"\n",
    "    Determines the next agent or endpoint based on the user's query.\n",
    "\n",
    "    This function processes the current conversation state, invokes the\n",
    "    routing model, and decides whether to route the query to the Finance\n",
    "    Agent, News Agent, or terminate the process.\n",
    "\n",
    "    Args:\n",
    "        state (MessagesState): The current conversation state containing messages.\n",
    "\n",
    "    Returns:\n",
    "        messages: Extracts last message of AIMessage Object.\n",
    "    \"\"\"\n",
    "    try:\n",
    "        response = router_agent.invoke(state)\n",
    "        #print(\"\\nThis is from router node: \", response)\n",
    "        output = response[\"messages\"][-1].content\n",
    "        #print(f\"Next Worker: {output}\")\n",
    "        if output == [\"FINISH\"]:\n",
    "            output = END\n",
    "        return {\"messages\": [\n",
    "                     AIMessage(content=response[\"messages\"][-1].content, name=\"Router_Agent\")\n",
    "                 ]}\n",
    "    except Exception as e:\n",
    "        print(f\"Error in router_node: {e}\")\n",
    "        return END"
   ]
  },
  {
   "cell_type": "code",
   "execution_count": null,
   "id": "fc521164",
   "metadata": {},
   "outputs": [],
   "source": [
    "# Finance Agent\n",
    "fundamental_analysis_agent_tools = [income_statement_tool, balance_sheet_tool, cashflow_tool, finance_ratio_tool]\n",
    "FUNDAMENTAL_ANALYSIS_AGENT_PROMPT = (\n",
    "    \"You are a financial analyst focused on company fundamentals. \"\n",
    "    \"Using the available tools (balance sheet, income statement, cash flow statement, and key financial ratios from yfinance), \"\n",
    "    \"analyze the stock ticker mentioned by the user. Identify strengths, weaknesses, and overall financial health based on the data. \"\n",
    "    \"If the user asks specific financial questions (e.g., 'What is the debt-to-equity ratio?' or 'Is revenue growing?'), provide clear answers. \"\n",
    "    \"Be precise, use financial terminology where appropriate, and explain briefly when necessary.\"\n",
    ")\n",
    "\n",
    "fundamental_analysis_agent = create_react_agent(model, tools=fundamental_analysis_agent_tools, prompt=FUNDAMENTAL_ANALYSIS_AGENT_PROMPT)"
   ]
  },
  {
   "cell_type": "code",
   "execution_count": null,
   "id": "9fa470d4",
   "metadata": {},
   "outputs": [],
   "source": [
    "def fundamental_node(state: MessagesState):\n",
    "    \"\"\"\n",
    "    Processes financial queries and updates the conversation state.\n",
    "\n",
    "    This function invokes the Fundamental Analysis Agent to handle financial queries,\n",
    "    updates the conversation state with the agent's response, and directs\n",
    "    the flow to the Final Agent.\n",
    "\n",
    "    Args:\n",
    "        state (MessagesState): The current conversation state.\n",
    "\n",
    "    Returns:\n",
    "        Command: A command updating the conversation and routing to the Final Agent.\n",
    "    \"\"\"\n",
    "    try:\n",
    "        result = fundamental_analysis_agent.invoke(state)\n",
    "        #print(\"\\nThis is from fundamental node -before command: \",result)\n",
    "        command = Command(\n",
    "            update={\n",
    "                \"messages\": [\n",
    "                    AIMessage(\n",
    "                        content=result[\"messages\"][-1].content, name=\"Fundamental_Analysis_Agent\"\n",
    "                    )\n",
    "                ]\n",
    "            },\n",
    "            goto=\"Final_Agent\",\n",
    "        )\n",
    "        #print(\"\\nThis is from fundamental node: \", command)\n",
    "        return command\n",
    "    except Exception as e:\n",
    "        print(f\"Error in fundamental_node: {e}\")\n",
    "        return Command(goto=END)"
   ]
  },
  {
   "cell_type": "code",
   "execution_count": null,
   "id": "676d7483",
   "metadata": {
    "lines_to_next_cell": 1
   },
   "outputs": [],
   "source": [
    "sentiment_analysis_agent_tools = [retriever_tool]\n",
    "SENTIMENT_ANALYSIS_AGENT_PROMPT = (\n",
    "    \"You are a sentiment analysis specialist. Your task is to analyze recent public sentiment about a specific stock ticker. \"\n",
    "    \"You are provided with the latest three news articles retrieved via yfinance and indexed using a RAG system. \"\n",
    "    \"Interpret the sentiment in these documents (positive, negative, neutral) and summarize any major themes or opinions. \"\n",
    "    \"If the sentiment is mixed, explain both sides. Provide a clear summary of how the stock is being perceived currently.\"\n",
    ")\n",
    "\n",
    "sentiment_analysis_agent = create_react_agent(model, tools=sentiment_analysis_agent_tools, prompt=SENTIMENT_ANALYSIS_AGENT_PROMPT)"
   ]
  },
  {
   "cell_type": "code",
   "execution_count": null,
   "id": "2dbc42e4",
   "metadata": {
    "lines_to_next_cell": 1
   },
   "outputs": [],
   "source": [
    "def sentiment_node(state: MessagesState):\n",
    "    \"\"\"\n",
    "    Processes news-related queries and updates the conversation state.\n",
    "\n",
    "    This function invokes the Sentiment Analysis Agent to determine the sentiment\n",
    "    of news articles related to the user's query on stock tickers,\n",
    "    updates the conversation state with the agent's response, and routes\n",
    "    the flow to the Final Agent.\n",
    "\n",
    "    Args:\n",
    "        state (MessagesState): The current conversation state.\n",
    "\n",
    "    Returns:\n",
    "        Command: A command updating the conversation and routing to the Final Agent.\n",
    "    \"\"\"\n",
    "    try:\n",
    "        result = sentiment_analysis_agent.invoke(state)\n",
    "        command = Command(\n",
    "            update={\n",
    "                \"messages\": [\n",
    "                    AIMessage(content=result[\"messages\"][-1].content, name=\"Sentiment_Analysis_Agent\")\n",
    "                ]\n",
    "            },\n",
    "            goto=\"Final_Agent\",\n",
    "        )\n",
    "        #print(\"\\nThis is from sentiment node: \", command)\n",
    "        return command\n",
    "    except Exception as e:\n",
    "        print(f\"Error in sentiment_node: {e}\")\n",
    "        return Command(goto=END)"
   ]
  },
  {
   "cell_type": "code",
   "execution_count": null,
   "id": "aeed5b74",
   "metadata": {},
   "outputs": [],
   "source": [
    "technical_analysis_agent_tools = []\n",
    "TECHNICAL_ANALYSIS_AGENT_PROMPT = (\n",
    "    \"You are a technical analyst responsible for analyzing the stock ticker's recent performance using historical price data. \"\n",
    "    \"Using the last 1 year of price history (retrieved from yfinance), compute and interpret key indicators such as:\"\n",
    "    \"\\n- Simple Moving Averages (SMA)\\n- Relative Strength Index (RSI)\\n- Moving Average Convergence Divergence (MACD)\\n\"\n",
    "    \"Use these to identify trends, overbought/oversold conditions, momentum shifts, or buy/sell signals. \"\n",
    "    \"Explain your insights clearly, as if advising an investor unfamiliar with the raw numbers.\"\n",
    ")\n",
    "\n",
    "technical_analysis_agent = create_react_agent(model, tools=technical_analysis_agent_tools, prompt=TECHNICAL_ANALYSIS_AGENT_PROMPT)"
   ]
  },
  {
   "cell_type": "code",
   "execution_count": null,
   "id": "9aabb8fd",
   "metadata": {},
   "outputs": [],
   "source": [
    "def technical_node(state: MessagesState):\n",
    "    \"\"\"\n",
    "    Processes news-related queries and updates the conversation state.\n",
    "\n",
    "    This function invokes the Technical Analysis Agent to handle the technical details of stock ticker\n",
    "    using RSI, MACD and SMA indicators, updates the conversation state with the agent's response, \n",
    "    and routes the flow to the Final Agent.\n",
    "\n",
    "    Args:\n",
    "        state (MessagesState): The current conversation state.\n",
    "\n",
    "    Returns:\n",
    "        Command: A command updating the conversation and routing to the Final Agent.\n",
    "    \"\"\"\n",
    "    try:\n",
    "        result = technical_analysis_agent.invoke(state)\n",
    "        command = Command(\n",
    "            update={\n",
    "                \"messages\": [\n",
    "                    AIMessage(content=result[\"messages\"][-1].content, name=\"Technical_Analysis_Agent\")\n",
    "                ]\n",
    "            },\n",
    "            goto=\"Final_Agent\",\n",
    "        )\n",
    "        #print(\"\\nThis is from technical node: \", command)\n",
    "        return command\n",
    "    except Exception as e:\n",
    "        print(f\"Error in technical_node: {e}\")\n",
    "        return Command(goto=END)"
   ]
  },
  {
   "cell_type": "code",
   "execution_count": null,
   "id": "f78c1c5a",
   "metadata": {},
   "outputs": [],
   "source": [
    "risk_assessment_agent_tools = [retriever_tool]\n",
    "RISK_ASSESSMENT_AGENT_PROMPT = (\n",
    "    \"You are a risk assessment analyst evaluating the investment risk of a given stock ticker. \"\n",
    "    \"Using available financial indicators (such as beta, volatility, debt levels, and valuation ratios from yfinance), \"\n",
    "    \"analyze the stock’s potential risk to an investor. Highlight factors such as price fluctuation, debt exposure, and market sensitivity. \"\n",
    "    \"If available, include metrics like Beta, daily return volatility, and debt-to-equity ratio. Provide a conclusion on whether the stock \"\n",
    "    \"is low, moderate, or high risk — and briefly justify your assessment.\"\n",
    ")\n",
    "\n",
    "risk_assessment_agent = create_react_agent(model, tools=risk_assessment_agent_tools, prompt=RISK_ASSESSMENT_AGENT_PROMPT)"
   ]
  },
  {
   "cell_type": "code",
   "execution_count": null,
   "id": "0d296aa9",
   "metadata": {},
   "outputs": [],
   "source": [
    "def risk_assessment_node(state: MessagesState):\n",
    "    \"\"\"\n",
    "    Processes news-related queries and updates the conversation state.\n",
    "\n",
    "    This function invokes the Technical Analysis Agent to handle the technical details of stock ticker\n",
    "    using RSI, MACD and SMA indicators, updates the conversation state with the agent's response, \n",
    "    and routes the flow to the Final Agent.\n",
    "\n",
    "    Args:\n",
    "        state (MessagesState): The current conversation state.\n",
    "\n",
    "    Returns:\n",
    "        Command: A command updating the conversation and routing to the Final Agent.\n",
    "    \"\"\"\n",
    "    try:\n",
    "        result = risk_assessment_agent.invoke(state)\n",
    "        command = Command(\n",
    "            update={\n",
    "                \"messages\": [\n",
    "                    AIMessage(content=result[\"messages\"][-1].content, name=\"Risk_Assessment_Agent\")\n",
    "                ]\n",
    "            },\n",
    "            goto=\"Final_Agent\",\n",
    "        )\n",
    "        #print(\"\\nThis is from risk assessment node: \", command)\n",
    "        return command\n",
    "    except Exception as e:\n",
    "        print(f\"Error in risk_assessment_node: {e}\")\n",
    "        return Command(goto=END)"
   ]
  },
  {
   "cell_type": "code",
   "execution_count": null,
   "id": "d42cedb1",
   "metadata": {
    "lines_to_next_cell": 1
   },
   "outputs": [],
   "source": [
    "real_estate_agent_tools = [housing_price_index_tool, web_search_tool]\n",
    "REAL_ESTATE_AGENT_PROMPT = (\n",
    "    \"You are a real estate analyst focused on the Swedish housing market. \"\n",
    "    \"Using regional housing price index data retrieved from the SCB API via pyscbwrapper, analyze property trends across Sweden. \"\n",
    "    \"When the user specifies a region (e.g., Stockholm, Malmö), provide insights on current price levels, recent trends, and changes over time. \"\n",
    "    \"If possible, comment on whether it's a high, low, or stable valuation period for the specified area.\"\n",
    ")\n",
    "\n",
    "real_estate_agent = create_react_agent(model, tools=real_estate_agent_tools, prompt=REAL_ESTATE_AGENT_PROMPT)"
   ]
  },
  {
   "cell_type": "code",
   "execution_count": 13,
   "id": "fe413260",
   "metadata": {},
   "outputs": [],
   "source": [
    "def real_estate_node(state: MessagesState):\n",
    "    \"\"\"\n",
    "    Processes housing price-related queries and updates the conversation state.\n",
    "\n",
    "    This function invokes the Real Estate Agent to handle housing queries,\n",
    "    updates the conversation state with the agent's response, and routes\n",
    "    the flow to the Final Agent.\n",
    "\n",
    "    Args:\n",
    "        state (MessagesState): The current conversation state.\n",
    "\n",
    "    Returns:\n",
    "        Command: A command updating the conversation and routing to the Final Agent.\n",
    "    \"\"\"\n",
    "    try:\n",
    "        result = real_estate_agent.invoke(state)\n",
    "        command = Command(\n",
    "            update={\n",
    "                \"messages\": [\n",
    "                    AIMessage(content=result[\"messages\"][-1].content, name=\"Real_Estate_Agent\")\n",
    "                ]\n",
    "            },\n",
    "            goto=END,\n",
    "        )\n",
    "        #print(\"\\nThis is from real_estate_node: \", command)\n",
    "        return command\n",
    "    except Exception as e:\n",
    "        print(f\"Error in real_estate_node: {e}\")\n",
    "        return Command(goto=END)"
   ]
  },
  {
   "cell_type": "code",
   "execution_count": null,
   "id": "3304e9cf",
   "metadata": {},
   "outputs": [],
   "source": []
  },
  {
   "cell_type": "code",
   "execution_count": null,
   "id": "f222860b",
   "metadata": {},
   "outputs": [],
   "source": [
    "FINAL_AGGREGATOR_AGENT_PROMPT = (\n",
    "    \"You are the final response composer in a multi-agent financial advisor system. \"\n",
    "    \"Your task is to summarize and consolidate information provided by one or more agents (e.g., Fundamental, Technical, Sentiment, Risk, Real Estate) \"\n",
    "    \"into a single clear, well-structured response for the user.\"\n",
    "    \"\\n\\nIf multiple agents provide insights, combine them into a cohesive summary. \"\n",
    "    \"Avoid repeating data; instead, synthesize the analysis and draw a high-level conclusion. \"\n",
    "    \"Make sure the response feels unified, professional, and easy to understand — like advice from a financial consultant.\"\n",
    ")\n",
    "final_agent = create_react_agent(model, tools=[], prompt=FINAL_AGGREGATOR_AGENT_PROMPT)"
   ]
  },
  {
   "cell_type": "code",
   "execution_count": null,
   "id": "43f67d6a",
   "metadata": {},
   "outputs": [],
   "source": [
    "def final_node(state: MessagesState):\n",
    "    \"\"\"\n",
    "    Aggregates responses from the Finance, News and General agents, passes them to the Final Agent,\n",
    "    and returns a final summarized result.\n",
    "    \"\"\"\n",
    "    try:\n",
    "        result = final_agent.invoke(state)\n",
    "        command = Command(\n",
    "            update={\n",
    "                \"messages\": [\n",
    "                    AIMessage(\n",
    "                        content=result[\"messages\"][-1].content, name=\"Final_Aggregator_Agent\"\n",
    "                    )\n",
    "                ]\n",
    "            },\n",
    "            goto=END,\n",
    "        )\n",
    "        #print(\"\\nThis is from final node: \", command)\n",
    "        return command\n",
    "    except Exception as e:\n",
    "        print(f\"Error in final_node: {e}\")\n",
    "        return Command(goto=END)"
   ]
  },
  {
   "cell_type": "code",
   "execution_count": 16,
   "id": "8d30e4cc",
   "metadata": {
    "lines_to_next_cell": 1
   },
   "outputs": [],
   "source": [
    "def condition(state: MessagesState) -> Sequence[str]:\n",
    "    \"\"\"\n",
    "    Defining the conditions to add as parameter in the conditional edge formation.\n",
    "\n",
    "    Args:\n",
    "        state (MessagesState): The current state containing message history.\n",
    "\n",
    "    Returns:\n",
    "        Sequence[str]: A list of agent names or [\"__end__\"] if no match is found.\n",
    "    \"\"\"\n",
    "    try:\n",
    "        last_message = state[\"messages\"][-1].content\n",
    "        #print(\"last_message:\", last_message)\n",
    "\n",
    "        if last_message == \"['Finance_Agent']\":\n",
    "            #print(\"state from condition1:\", state)\n",
    "            return [\"Finance_Agent\"]\n",
    "\n",
    "        if last_message == \"['News_Agent']\":\n",
    "            #print(\"state from condition2:\", state)\n",
    "            return [\"News_Agent\"]\n",
    "\n",
    "        if last_message == \"['Real_Estate_Agent']\":\n",
    "            #print(\"state from condition3:\", state)\n",
    "            return [\"Real_Estate_Agent\"]\n",
    "\n",
    "        if last_message == \"['Finance_Agent', 'News_Agent']\":\n",
    "            #print(\"state from condition4:\", state)\n",
    "            return [\"Finance_Agent\", \"News_Agent\"]\n",
    "\n",
    "        return [\"__end__\"]\n",
    "    except (KeyError, IndexError, AttributeError) as e:\n",
    "        print(f\"Error in condition function: {e}\")\n",
    "        return [\"__end__\"]"
   ]
  },
  {
   "cell_type": "code",
   "execution_count": null,
   "id": "d87d568c",
   "metadata": {},
   "outputs": [
    {
     "data": {
      "text/plain": [
       "<langgraph.graph.state.StateGraph at 0x12e5173d0>"
      ]
     },
     "execution_count": 17,
     "metadata": {},
     "output_type": "execute_result"
    }
   ],
   "source": [
    "memory = MemorySaver()\n",
    "builder = StateGraph(MessagesState)\n",
    "builder.add_node(\"Router_Agent\", router_node)\n",
    "builder.add_node(\"Fundamental_Analysis_Agent\", fundamental_node)\n",
    "builder.add_node(\"Sentiment_Analysis_Agent\", sentiment_node)\n",
    "builder.add_node(\"Technical_Analysis_Agent\", technical_node)\n",
    "builder.add_node(\"Risk_Assessment_Agent\", risk_assessment_node)\n",
    "builder.add_node(\"Real_Estate_Agent\", real_estate_node)\n",
    "builder.add_node(\"Final_Aggregator_Agent\", final_node)"
   ]
  },
  {
   "cell_type": "code",
   "execution_count": null,
   "id": "3f2d3fea",
   "metadata": {},
   "outputs": [
    {
     "data": {
      "text/plain": [
       "<langgraph.graph.state.StateGraph at 0x12e5173d0>"
      ]
     },
     "execution_count": 18,
     "metadata": {},
     "output_type": "execute_result"
    }
   ],
   "source": [
    "builder.add_edge(START, \"Router_Agent\")\n",
    "builder.add_conditional_edges(\"Router_Agent\", condition, members)\n",
    "builder.add_edge(\"Fundamental_Analysis_Agent\", \"Final_Aggregator_Agent\")\n",
    "builder.add_edge(\"Sentiment_Analysis_Agent\", \"Final_Aggregator_Agent\")\n",
    "builder.add_edge(\"Technical_Analysis_Agent\", \"Final_Aggregator_Agent\")\n",
    "builder.add_edge(\"Risk_Assessment_Agent\", \"Final_Aggregator_Agent\")\n",
    "builder.add_edge(\"Real_Estate_Agent\", \"Final_Aggregator_Agent\")\n",
    "builder.add_edge(\"Final_Aggregator_Agent\", END)"
   ]
  },
  {
   "cell_type": "code",
   "execution_count": 19,
   "id": "a93e1a1e",
   "metadata": {},
   "outputs": [],
   "source": [
    "graph = builder.compile(checkpointer=memory)"
   ]
  },
  {
   "cell_type": "code",
   "execution_count": 20,
   "id": "937e5e70",
   "metadata": {},
   "outputs": [
    {
     "data": {
      "image/png": "[encoded data removed]",
      "text/plain": [
       "<langgraph.graph.state.CompiledStateGraph object at 0x12e59a140>"
      ]
     },
     "execution_count": 20,
     "metadata": {},
     "output_type": "execute_result"
    }
   ],
   "source": [
    "graph"
   ]
  },
  {
   "cell_type": "code",
   "execution_count": null,
   "id": "869ed8ab",
   "metadata": {},
   "outputs": [],
   "source": [
    "config_1 = {\"configurable\": {\"thread_id\": \"1\"}}\n",
    "USER_QUESTION_1 = \"Give me the analysis of balance sheet for the stock bershire?\"\n",
    "events = graph.stream(\n",
    "    {\"messages\": [{\"role\": \"user\", \"content\": USER_QUESTION_1}]},\n",
    "    config_1,\n",
    "    stream_mode=\"values\",\n",
    ")\n",
    "for event in events:\n",
    "    if \"messages\" in event:\n",
    "        event[\"messages\"][-1].pretty_print()"
   ]
  },
  {
   "cell_type": "code",
   "execution_count": null,
   "id": "78344579",
   "metadata": {},
   "outputs": [],
   "source": [
    "config_2 = {\"configurable\": {\"thread_id\": \"2\"}}\n",
    "USER_QUESTION_2 = \"Is it right time to buy house in karlstad?\"\n",
    "events = graph.stream(\n",
    "    {\"messages\": [{\"role\": \"user\", \"content\": USER_QUESTION_2}]},\n",
    "    config_2,\n",
    "    stream_mode=\"values\",\n",
    ")\n",
    "for event in events:\n",
    "    if \"messages\" in event:\n",
    "        event[\"messages\"][-1].pretty_print()"
   ]
  },
  {
   "cell_type": "code",
   "execution_count": 21,
   "id": "60733998",
   "metadata": {},
   "outputs": [
    {
     "name": "stdout",
     "output_type": "stream",
     "text": [
      "================================\u001b[1m Human Message \u001b[0m=================================\n",
      "\n",
      "give me latest news about stock microsoft?\n",
      "==================================\u001b[1m Ai Message \u001b[0m==================================\n",
      "Name: Router_Agent\n",
      "\n",
      "Here are some resources for the latest news and updates about Microsoft's stock:\n",
      "\n",
      "1. [Microsoft Corporation (MSFT) - Yahoo Finance](https://finance.yahoo.com/quote/MSFT/) - Provides detailed performance overview, valuation measures, and financial highlights for Microsoft.\n",
      "\n",
      "2. [Microsoft Corp. (MSFT) Stock Price Today - WSJ](https://www.wsj.com/market-data/quotes/MSFT) - Offers stock price, news, historical charts, and analyst ratings.\n",
      "\n",
      "You can explore these links for comprehensive and up-to-date information.\n"
     ]
    }
   ],
   "source": [
    "config_3 = {\"configurable\": {\"thread_id\": \"3\"}}\n",
    "USER_QUESTION_3 = \"give me latest news about stock microsoft?\"\n",
    "events = graph.stream(\n",
    "    {\"messages\": [{\"role\": \"user\", \"content\": USER_QUESTION_3}]},\n",
    "    config_3,\n",
    "    stream_mode=\"values\",\n",
    ")\n",
    "for event in events:\n",
    "    if \"messages\" in event:\n",
    "        event[\"messages\"][-1].pretty_print()"
   ]
  },
  {
   "cell_type": "code",
   "execution_count": null,
   "id": "4f0b5620",
   "metadata": {},
   "outputs": [],
   "source": []
  }
 ],
 "metadata": {
  "jupytext": {
   "cell_metadata_filter": "-all",
   "main_language": "python",
   "notebook_metadata_filter": "-all"
  },
  "kernelspec": {
   "display_name": "langgraph_env",
   "language": "python",
   "name": "python3"
  },
  "language_info": {
   "codemirror_mode": {
    "name": "ipython",
    "version": 3
   },
   "file_extension": ".py",
   "mimetype": "text/x-python",
   "name": "python",
   "nbconvert_exporter": "python",
   "pygments_lexer": "ipython3",
   "version": "3.10.16"
  }
 },
 "nbformat": 4,
 "nbformat_minor": 5
}

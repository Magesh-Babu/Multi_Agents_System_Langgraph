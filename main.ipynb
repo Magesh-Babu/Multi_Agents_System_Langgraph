{
 "cells": [
  {
   "cell_type": "code",
   "execution_count": null,
   "id": "8396375f",
   "metadata": {},
   "outputs": [],
   "source": [
    "\"\"\"\n",
    "Module for setting up a stateful AI agent using LangGraph and LangChain.\n",
    "\n",
    "This module defines a reactive AI agent using LangGraph's state management \n",
    "and LangChain's AI models. It includes tools for document processing, \n",
    "vector storage, and financial data retrieval.\n",
    "\"\"\""
   ]
  },
  {
   "cell_type": "code",
   "execution_count": 1,
   "id": "0cfd5d0b",
   "metadata": {},
   "outputs": [
    {
     "name": "stderr",
     "output_type": "stream",
     "text": [
      "USER_AGENT environment variable not set, consider setting it to identify your requests.\n"
     ]
    }
   ],
   "source": [
    "import os\n",
    "from typing import Literal, List, Union, Annotated, Sequence\n",
    "from langgraph.types import Command\n",
    "from langgraph.graph import MessagesState, StateGraph, START, END\n",
    "from langgraph.prebuilt import create_react_agent\n",
    "from langgraph.checkpoint.memory import MemorySaver\n",
    "from typing_extensions import TypedDict\n",
    "from langchain_core.messages import AIMessage\n",
    "from langchain_openai.chat_models import AzureChatOpenAI\n",
    "from langchain_community.tools.tavily_search import TavilySearchResults\n",
    "from tools_list import (\n",
    "    income_statement_tool,\n",
    "    balance_sheet_tool,\n",
    "    cashflow_tool,\n",
    "    finance_ratio_tool,\n",
    "    retriever_tool,\n",
    "    housing_price_index_tool,\n",
    ")"
   ]
  },
  {
   "cell_type": "code",
   "execution_count": 2,
   "id": "cd0fd292",
   "metadata": {
    "lines_to_next_cell": 2
   },
   "outputs": [],
   "source": [
    "AZURE_GPT_API = os.getenv(\"AZURE_GPT_API\")\n",
    "AZURE_GPT_ENDPOINT = os.getenv(\"AZURE_GPT_ENDPOINT\")\n",
    "try:\n",
    "    model = AzureChatOpenAI(\n",
    "        azure_endpoint=AZURE_GPT_ENDPOINT,\n",
    "        azure_deployment=\"gpt-4o\",\n",
    "        api_version=\"2024-08-01-preview\",\n",
    "        api_key=AZURE_GPT_API,\n",
    "        temperature=0.2,\n",
    "        streaming=True,\n",
    "    )\n",
    "except Exception as e:\n",
    "    raise RuntimeError(f\"Failed to initialize AzureChatOpenAI: {e}\") from e"
   ]
  },
  {
   "cell_type": "code",
   "execution_count": 3,
   "id": "53383c00",
   "metadata": {},
   "outputs": [],
   "source": [
    "# Define available agents\n",
    "members = [\"Finance_Agent\", \"News_Agent\", \"Real_Estate_Agent\", \"__end__\"]"
   ]
  },
  {
   "cell_type": "code",
   "execution_count": 4,
   "id": "2e4f0a2b",
   "metadata": {
    "lines_to_next_cell": 1
   },
   "outputs": [],
   "source": [
    "# Define router type for structured output\n",
    "class Router(TypedDict):\n",
    "    \"\"\"Worker to route to next.\"\"\"\n",
    "    next_worker: List[Literal[\"Finance_Agent\", \"News_Agent\", \"Real_Estate_Agent\"]]\n",
    "class ConversationalResponse(TypedDict):\n",
    "    \"\"\"Respond in a conversational manner. Be kind and helpful.\"\"\"\n",
    "    response: Annotated[str, ..., \"A conversational response to the user's query\"]"
   ]
  },
  {
   "cell_type": "code",
   "execution_count": 5,
   "id": "a5f766dc",
   "metadata": {
    "lines_to_next_cell": 1
   },
   "outputs": [],
   "source": [
    "class FinalResponse(TypedDict):\n",
    "    \"\"\"\n",
    "    Represents the final output of a system, which can either be:\n",
    "    \n",
    "    Router type, determining the next worker to handle the process.\n",
    "    ConversationalResponse type, providing a user-friendly response.\n",
    "\n",
    "    \"\"\"\n",
    "    final_output: Union[Router, ConversationalResponse]"
   ]
  },
  {
   "cell_type": "code",
   "execution_count": 6,
   "id": "25f5a532",
   "metadata": {},
   "outputs": [],
   "source": [
    "# Router Agent\n",
    "web_search_tool = TavilySearchResults(max_results=2)\n",
    "router_agent_tools = [web_search_tool]\n",
    "ROUTER_AGENT_PROMPT = (\n",
    "    \"You are tasked with managing a conversation among the following workers: \"\n",
    "    f\"{members}. Based on the user's request, determine which worker(s) should handle the query next. \"\n",
    "    \"If the query involves income statement, balance sheet, cash flow statement and financial ratio, include 'Finance_Agent' in your answer. \"\n",
    "    \"If the query pertains to news or current events, include 'News_Agent' in your answer. \"\n",
    "    \"If the query is about housing price situation in Sweden, include 'Real_Estate_Agent' in your answer. \"\n",
    "    \"If the query is general, answer in conversational manner.\"\n",
    "    \"Your response should be either list of agent names or coversational response.\"\n",
    ")\n",
    "router_agent = create_react_agent(\n",
    "    model, tools=router_agent_tools, prompt=ROUTER_AGENT_PROMPT, response_format=FinalResponse\n",
    ")"
   ]
  },
  {
   "cell_type": "code",
   "execution_count": 7,
   "id": "7417c560",
   "metadata": {},
   "outputs": [],
   "source": [
    "def router_node(state: MessagesState):\n",
    "    \"\"\"\n",
    "    Determines the next agent or endpoint based on the user's query.\n",
    "\n",
    "    This function processes the current conversation state, invokes the\n",
    "    routing model, and decides whether to route the query to the Finance\n",
    "    Agent, News Agent, or terminate the process.\n",
    "\n",
    "    Args:\n",
    "        state (MessagesState): The current conversation state containing messages.\n",
    "\n",
    "    Returns:\n",
    "        messages: Extracts last message of AIMessage Object.\n",
    "    \"\"\"\n",
    "    try:\n",
    "        response = router_agent.invoke(state)\n",
    "        #print(\"\\nThis is from router node: \", response)\n",
    "        output = response[\"messages\"][-1].content\n",
    "        #print(f\"Next Worker: {output}\")\n",
    "        if output == [\"FINISH\"]:\n",
    "            output = END\n",
    "        return {\"messages\": [\n",
    "                     AIMessage(content=response[\"messages\"][-1].content, name=\"Router_Agent\")\n",
    "                 ]}\n",
    "    except Exception as e:\n",
    "        print(f\"Error in router_node: {e}\")\n",
    "        return END"
   ]
  },
  {
   "cell_type": "code",
   "execution_count": 8,
   "id": "fc521164",
   "metadata": {},
   "outputs": [],
   "source": [
    "# Finance Agent\n",
    "finance_agent_tools = [income_statement_tool, balance_sheet_tool, cashflow_tool, finance_ratio_tool]\n",
    "FINANCE_AGENT_PROMPT = \"You are responsible to provide financial analysis of stock ticker using provided tools\"\n",
    "finance_agent = create_react_agent(model, tools=finance_agent_tools, prompt=FINANCE_AGENT_PROMPT)"
   ]
  },
  {
   "cell_type": "code",
   "execution_count": 9,
   "id": "9fa470d4",
   "metadata": {},
   "outputs": [],
   "source": [
    "def finance_node(state: MessagesState):\n",
    "    \"\"\"\n",
    "    Processes financial queries and updates the conversation state.\n",
    "\n",
    "    This function invokes the Finance Agent to handle financial queries,\n",
    "    updates the conversation state with the agent's response, and directs\n",
    "    the flow to the Final Agent.\n",
    "\n",
    "    Args:\n",
    "        state (MessagesState): The current conversation state.\n",
    "\n",
    "    Returns:\n",
    "        Command: A command updating the conversation and routing to the Final Agent.\n",
    "    \"\"\"\n",
    "    try:\n",
    "        result = finance_agent.invoke(state)\n",
    "        #print(\"\\nThis is from finance node -before command: \",result)\n",
    "        command = Command(\n",
    "            update={\n",
    "                \"messages\": [\n",
    "                    AIMessage(\n",
    "                        content=result[\"messages\"][-1].content, name=\"Finance_Agent\"\n",
    "                    )\n",
    "                ]\n",
    "            },\n",
    "            goto=\"Final_Agent\",\n",
    "        )\n",
    "        #print(\"\\nThis is from finance node: \", command)\n",
    "        return command\n",
    "    except Exception as e:\n",
    "        print(f\"Error in finance_node: {e}\")\n",
    "        return Command(goto=END)"
   ]
  },
  {
   "cell_type": "code",
   "execution_count": 10,
   "id": "676d7483",
   "metadata": {
    "lines_to_next_cell": 1
   },
   "outputs": [],
   "source": [
    "new_agent_tools = [retriever_tool]\n",
    "NEWS_AGENT_PROMPT = \"You are responsible to provide lastest new analysis of stock ticker using provided tool\"\n",
    "news_agent = create_react_agent(model, tools=new_agent_tools, prompt=NEWS_AGENT_PROMPT)"
   ]
  },
  {
   "cell_type": "code",
   "execution_count": 11,
   "id": "2dbc42e4",
   "metadata": {
    "lines_to_next_cell": 1
   },
   "outputs": [],
   "source": [
    "def news_node(state: MessagesState):\n",
    "    \"\"\"\n",
    "    Processes news-related queries and updates the conversation state.\n",
    "\n",
    "    This function invokes the News Agent to handle news queries,\n",
    "    updates the conversation state with the agent's response, and routes\n",
    "    the flow to the Final Agent.\n",
    "\n",
    "    Args:\n",
    "        state (MessagesState): The current conversation state.\n",
    "\n",
    "    Returns:\n",
    "        Command: A command updating the conversation and routing to the Final Agent.\n",
    "    \"\"\"\n",
    "    try:\n",
    "        result = news_agent.invoke(state)\n",
    "        command = Command(\n",
    "            update={\n",
    "                \"messages\": [\n",
    "                    AIMessage(content=result[\"messages\"][-1].content, name=\"News_Agent\")\n",
    "                ]\n",
    "            },\n",
    "            goto=\"Final_Agent\",\n",
    "        )\n",
    "        #print(\"\\nThis is from news node: \", command)\n",
    "        return command\n",
    "    except Exception as e:\n",
    "        print(f\"Error in news_node: {e}\")\n",
    "        return Command(goto=END)"
   ]
  },
  {
   "cell_type": "code",
   "execution_count": 12,
   "id": "d42cedb1",
   "metadata": {
    "lines_to_next_cell": 1
   },
   "outputs": [],
   "source": [
    "real_estate_agent_tools = [housing_price_index_tool, web_search_tool]\n",
    "REAL_ESTATE_AGENT_PROMPT = \"You are responsible to provide housing price analysis in sweden using provided tool\"\n",
    "real_estate_agent = create_react_agent(model, tools=real_estate_agent_tools, prompt=REAL_ESTATE_AGENT_PROMPT)"
   ]
  },
  {
   "cell_type": "code",
   "execution_count": 13,
   "id": "fe413260",
   "metadata": {},
   "outputs": [],
   "source": [
    "def real_estate_node(state: MessagesState):\n",
    "    \"\"\"\n",
    "    Processes housing price-related queries and updates the conversation state.\n",
    "\n",
    "    This function invokes the Real Estate Agent to handle housing queries,\n",
    "    updates the conversation state with the agent's response, and routes\n",
    "    the flow to the Final Agent.\n",
    "\n",
    "    Args:\n",
    "        state (MessagesState): The current conversation state.\n",
    "\n",
    "    Returns:\n",
    "        Command: A command updating the conversation and routing to the Final Agent.\n",
    "    \"\"\"\n",
    "    try:\n",
    "        result = real_estate_agent.invoke(state)\n",
    "        command = Command(\n",
    "            update={\n",
    "                \"messages\": [\n",
    "                    AIMessage(content=result[\"messages\"][-1].content, name=\"Real_Estate_Agent\")\n",
    "                ]\n",
    "            },\n",
    "            goto=END,\n",
    "        )\n",
    "        #print(\"\\nThis is from real_estate_node: \", command)\n",
    "        return command\n",
    "    except Exception as e:\n",
    "        print(f\"Error in real_estate_node: {e}\")\n",
    "        return Command(goto=END)"
   ]
  },
  {
   "cell_type": "code",
   "execution_count": 14,
   "id": "f222860b",
   "metadata": {},
   "outputs": [],
   "source": [
    "FINAL_AGENT_PROMPT = (\n",
    "    \"You are responsible for combining the outputs from the Finance, News and General Agents and providing \"\n",
    "    \"a final summarized answer for the user.\"\n",
    ")\n",
    "# Here we create the Combine Agent. It doesn't need additional tools.\n",
    "final_agent = create_react_agent(model, tools=[], prompt=FINAL_AGENT_PROMPT)"
   ]
  },
  {
   "cell_type": "code",
   "execution_count": 15,
   "id": "43f67d6a",
   "metadata": {},
   "outputs": [],
   "source": [
    "def final_node(state: MessagesState):\n",
    "    \"\"\"\n",
    "    Aggregates responses from the Finance, News and General agents, passes them to the Final Agent,\n",
    "    and returns a final summarized result.\n",
    "    \"\"\"\n",
    "    try:\n",
    "        result = final_agent.invoke(state)\n",
    "        command = Command(\n",
    "            update={\n",
    "                \"messages\": [\n",
    "                    AIMessage(\n",
    "                        content=result[\"messages\"][-1].content, name=\"Final_Agent\"\n",
    "                    )\n",
    "                ]\n",
    "            },\n",
    "            goto=END,\n",
    "        )\n",
    "        #print(\"\\nThis is from final node: \", command)\n",
    "        return command\n",
    "    except Exception as e:\n",
    "        print(f\"Error in final_node: {e}\")\n",
    "        return Command(goto=END)"
   ]
  },
  {
   "cell_type": "code",
   "execution_count": 16,
   "id": "8d30e4cc",
   "metadata": {
    "lines_to_next_cell": 1
   },
   "outputs": [],
   "source": [
    "def condition(state: MessagesState) -> Sequence[str]:\n",
    "    \"\"\"\n",
    "    Defining the conditions to add as parameter in the conditional edge formation.\n",
    "\n",
    "    Args:\n",
    "        state (MessagesState): The current state containing message history.\n",
    "\n",
    "    Returns:\n",
    "        Sequence[str]: A list of agent names or [\"__end__\"] if no match is found.\n",
    "    \"\"\"\n",
    "    try:\n",
    "        last_message = state[\"messages\"][-1].content\n",
    "        #print(\"last_message:\", last_message)\n",
    "\n",
    "        if last_message == \"['Finance_Agent']\":\n",
    "            #print(\"state from condition1:\", state)\n",
    "            return [\"Finance_Agent\"]\n",
    "\n",
    "        if last_message == \"['News_Agent']\":\n",
    "            #print(\"state from condition2:\", state)\n",
    "            return [\"News_Agent\"]\n",
    "\n",
    "        if last_message == \"['Real_Estate_Agent']\":\n",
    "            #print(\"state from condition3:\", state)\n",
    "            return [\"Real_Estate_Agent\"]\n",
    "\n",
    "        if last_message == \"['Finance_Agent', 'News_Agent']\":\n",
    "            #print(\"state from condition4:\", state)\n",
    "            return [\"Finance_Agent\", \"News_Agent\"]\n",
    "\n",
    "        return [\"__end__\"]\n",
    "    except (KeyError, IndexError, AttributeError) as e:\n",
    "        print(f\"Error in condition function: {e}\")\n",
    "        return [\"__end__\"]"
   ]
  },
  {
   "cell_type": "code",
   "execution_count": 17,
   "id": "d87d568c",
   "metadata": {},
   "outputs": [
    {
     "data": {
      "text/plain": [
       "<langgraph.graph.state.StateGraph at 0x10dad0f70>"
      ]
     },
     "execution_count": 17,
     "metadata": {},
     "output_type": "execute_result"
    }
   ],
   "source": [
    "memory = MemorySaver()\n",
    "builder = StateGraph(MessagesState)\n",
    "builder.add_node(\"Router_Agent\", router_node)\n",
    "builder.add_node(\"Finance_Agent\", finance_node)\n",
    "builder.add_node(\"News_Agent\", news_node)\n",
    "builder.add_node(\"Real_Estate_Agent\", real_estate_node)\n",
    "builder.add_node(\"Final_Agent\", final_node)"
   ]
  },
  {
   "cell_type": "code",
   "execution_count": 18,
   "id": "3f2d3fea",
   "metadata": {},
   "outputs": [
    {
     "data": {
      "text/plain": [
       "<langgraph.graph.state.StateGraph at 0x10dad0f70>"
      ]
     },
     "execution_count": 18,
     "metadata": {},
     "output_type": "execute_result"
    }
   ],
   "source": [
    "builder.add_edge(START, \"Router_Agent\")\n",
    "builder.add_conditional_edges(\"Router_Agent\", condition, members)\n",
    "builder.add_edge(\"Finance_Agent\", \"Final_Agent\")\n",
    "builder.add_edge(\"News_Agent\", \"Final_Agent\")\n",
    "builder.add_edge(\"Real_Estate_Agent\", END)\n",
    "builder.add_edge(\"Final_Agent\", END)"
   ]
  },
  {
   "cell_type": "code",
   "execution_count": 19,
   "id": "a93e1a1e",
   "metadata": {},
   "outputs": [],
   "source": [
    "graph = builder.compile(checkpointer=memory)"
   ]
  },
  {
   "cell_type": "code",
   "execution_count": 21,
   "id": "869ed8ab",
   "metadata": {},
   "outputs": [
    {
     "name": "stdout",
     "output_type": "stream",
     "text": [
      "================================\u001b[1m Human Message \u001b[0m=================================\n",
      "\n",
      "Give me advise on housing prices situation in malmö?\n",
      "==================================\u001b[1m Ai Message \u001b[0m==================================\n",
      "Name: Router_Agent\n",
      "\n",
      "['Real_Estate_Agent']\n",
      "data from tool: {'columns': [{'code': 'Region', 'text': 'region', 'type': 'd'}, {'code': 'Tid', 'text': 'year', 'type': 't'}, {'code': 'BO0501N9', 'text': 'Index', 'type': 'c'}], 'comments': [], 'data': [{'key': ['0030', '2014'], 'values': ['778']}, {'key': ['0030', '2015'], 'values': ['849']}, {'key': ['0030', '2016'], 'values': ['954']}, {'key': ['0030', '2017'], 'values': ['1051']}, {'key': ['0030', '2018'], 'values': ['1084']}, {'key': ['0030', '2019'], 'values': ['1131']}, {'key': ['0030', '2020'], 'values': ['1223']}, {'key': ['0030', '2021'], 'values': ['1452']}, {'key': ['0030', '2022'], 'values': ['1491']}, {'key': ['0030', '2023'], 'values': ['1321']}, {'key': ['0030', '2024'], 'values': ['1357']}], 'metadata': [{'infofile': 'BO0501', 'updated': '2025-01-21T08:34:00Z', 'label': 'Real estate price index for one- or two-dwelling buildings for permanent living (1981=100), index by region, year and observations', 'source': 'Statistics Sweden'}]}\n",
      "==================================\u001b[1m Ai Message \u001b[0m==================================\n",
      "Name: Real_Estate_Agent\n",
      "\n",
      "The housing price index for Greater Malmö has shown significant fluctuations over the years. Here's a summary of the trend:\n",
      "\n",
      "- **2014**: Index was 778\n",
      "- **2015**: Index increased to 849\n",
      "- **2016**: Index rose further to 954\n",
      "- **2017**: Index reached 1051\n",
      "- **2018**: Index slightly increased to 1084\n",
      "- **2019**: Index climbed to 1131\n",
      "- **2020**: Index jumped to 1223\n",
      "- **2021**: Index peaked at 1452\n",
      "- **2022**: Index slightly increased to 1491\n",
      "- **2023**: Index dropped to 1321\n",
      "- **2024**: Index slightly recovered to 1357\n",
      "\n",
      "### Analysis:\n",
      "1. **Growth Phase**: Between 2014 and 2021, housing prices in Malmö experienced a steady and significant increase, reflecting strong demand and market growth.\n",
      "2. **Peak and Decline**: The index peaked in 2021 but started to decline in 2023, possibly due to economic factors, interest rate changes, or market corrections.\n",
      "3. **Recovery**: In 2024, there is a slight recovery, indicating stabilization or renewed interest in the housing market.\n",
      "\n",
      "### Advice:\n",
      "- If you're looking to buy, the current market (2024) might offer opportunities as prices are lower than the peak in 2021-2022.\n",
      "- If you're selling, consider waiting for further recovery or strategize based on local demand and economic conditions.\n",
      "- Keep an eye on interest rates and economic policies, as they significantly impact housing prices.\n"
     ]
    }
   ],
   "source": [
    "config_1 = {\"configurable\": {\"thread_id\": \"1\"}}\n",
    "USER_QUESTION_1 = \"Give me advise on housing prices situation in malmö?\"\n",
    "events = graph.stream(\n",
    "    {\"messages\": [{\"role\": \"user\", \"content\": USER_QUESTION_1}]},\n",
    "    config_1,\n",
    "    stream_mode=\"values\",\n",
    ")\n",
    "for event in events:\n",
    "    if \"messages\" in event:\n",
    "        event[\"messages\"][-1].pretty_print()"
   ]
  },
  {
   "cell_type": "code",
   "execution_count": 20,
   "id": "78344579",
   "metadata": {},
   "outputs": [
    {
     "name": "stdout",
     "output_type": "stream",
     "text": [
      "================================\u001b[1m Human Message \u001b[0m=================================\n",
      "\n",
      "Hi\n",
      "==================================\u001b[1m Ai Message \u001b[0m==================================\n",
      "Name: Router_Agent\n",
      "\n",
      "Hello! How can I assist you today?\n"
     ]
    }
   ],
   "source": [
    "config_2 = {\"configurable\": {\"thread_id\": \"2\"}}\n",
    "USER_QUESTION_2 = \"Hi\"\n",
    "events = graph.stream(\n",
    "    {\"messages\": [{\"role\": \"user\", \"content\": USER_QUESTION_2}]},\n",
    "    config_2,\n",
    "    stream_mode=\"values\",\n",
    ")\n",
    "for event in events:\n",
    "    if \"messages\" in event:\n",
    "        event[\"messages\"][-1].pretty_print()"
   ]
  },
  {
   "cell_type": "code",
   "execution_count": null,
   "id": "60733998",
   "metadata": {},
   "outputs": [],
   "source": []
  }
 ],
 "metadata": {
  "jupytext": {
   "cell_metadata_filter": "-all",
   "main_language": "python",
   "notebook_metadata_filter": "-all"
  },
  "kernelspec": {
   "display_name": "langgraph_env",
   "language": "python",
   "name": "python3"
  },
  "language_info": {
   "codemirror_mode": {
    "name": "ipython",
    "version": 3
   },
   "file_extension": ".py",
   "mimetype": "text/x-python",
   "name": "python",
   "nbconvert_exporter": "python",
   "pygments_lexer": "ipython3",
   "version": "3.10.16"
  }
 },
 "nbformat": 4,
 "nbformat_minor": 5
}
